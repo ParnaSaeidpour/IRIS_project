{
 "cells": [
  {
   "cell_type": "code",
   "execution_count": 1,
   "id": "501208e5",
   "metadata": {},
   "outputs": [],
   "source": [
    "import pandas as pd\n",
    "from sklearn.preprocessing import LabelEncoder\n",
    "from sklearn.model_selection import train_test_split\n",
    "\n",
    "import tensorflow as tf\n",
    "from tensorflow import  keras\n",
    "from keras.models import Sequential\n",
    "from keras.layers.core import Dense\n",
    "from keras.layers import Activation\n",
    "from tensorflow.keras.optimizers import Adam\n"
   ]
  },
  {
   "cell_type": "code",
   "execution_count": 2,
   "id": "c05060a8",
   "metadata": {},
   "outputs": [],
   "source": [
    "test_size=0.2 \n",
    "random_state=42\n",
    "batch_size=5\n",
    "epochs=20\n",
    "verbose=2\n",
    "shuffle=True\n",
    "cv=5\n",
    "learning_rate=0.001"
   ]
  },
  {
   "cell_type": "code",
   "execution_count": 3,
   "id": "2fb0b7e1",
   "metadata": {},
   "outputs": [],
   "source": [
    "iris= pd.read_csv(\"iris.csv\")\n",
    "iris.drop('Id',inplace=True, axis=1)\n",
    "\n",
    "X=iris.drop(['Species'], axis=1)\n",
    "y=iris['Species']\n",
    "encoder=LabelEncoder()\n",
    "y=encoder.fit_transform(y)\n",
    "\n",
    "X_train, X_test, y_train, y_test = train_test_split(X,y, test_size=test_size, random_state=random_state)\n"
   ]
  },
  {
   "cell_type": "code",
   "execution_count": 7,
   "id": "74de2881",
   "metadata": {},
   "outputs": [],
   "source": [
    "model= Sequential([\n",
    "    Dense(10, input_shape=(4,), activation='relu'),\n",
    "    Dense(32, activation='relu'),\n",
    "    Dense(3, activation='softmax')\n",
    "    \n",
    "])"
   ]
  },
  {
   "cell_type": "code",
   "execution_count": 8,
   "id": "2af47654",
   "metadata": {},
   "outputs": [],
   "source": [
    "optimizer= Adam(learning_rate=learning_rate)\n",
    "model.compile(optimizer, loss='sparse_categorical_crossentropy', metrics=['accuracy'])"
   ]
  },
  {
   "cell_type": "code",
   "execution_count": 9,
   "id": "e10b0985",
   "metadata": {
    "scrolled": true
   },
   "outputs": [
    {
     "name": "stdout",
     "output_type": "stream",
     "text": [
      "Epoch 1/20\n",
      "24/24 - 0s - loss: 1.0594 - accuracy: 0.3583 - 401ms/epoch - 17ms/step\n",
      "Epoch 2/20\n",
      "24/24 - 0s - loss: 0.9541 - accuracy: 0.4667 - 45ms/epoch - 2ms/step\n",
      "Epoch 3/20\n",
      "24/24 - 0s - loss: 0.8676 - accuracy: 0.6250 - 56ms/epoch - 2ms/step\n",
      "Epoch 4/20\n",
      "24/24 - 0s - loss: 0.7877 - accuracy: 0.6500 - 40ms/epoch - 2ms/step\n",
      "Epoch 5/20\n",
      "24/24 - 0s - loss: 0.7094 - accuracy: 0.7583 - 43ms/epoch - 2ms/step\n",
      "Epoch 6/20\n",
      "24/24 - 0s - loss: 0.6452 - accuracy: 0.8083 - 54ms/epoch - 2ms/step\n",
      "Epoch 7/20\n",
      "24/24 - 0s - loss: 0.5897 - accuracy: 0.7917 - 41ms/epoch - 2ms/step\n",
      "Epoch 8/20\n",
      "24/24 - 0s - loss: 0.5382 - accuracy: 0.9250 - 44ms/epoch - 2ms/step\n",
      "Epoch 9/20\n",
      "24/24 - 0s - loss: 0.4917 - accuracy: 0.9583 - 50ms/epoch - 2ms/step\n",
      "Epoch 10/20\n",
      "24/24 - 0s - loss: 0.4505 - accuracy: 0.9333 - 58ms/epoch - 2ms/step\n",
      "Epoch 11/20\n",
      "24/24 - 0s - loss: 0.4175 - accuracy: 0.9417 - 56ms/epoch - 2ms/step\n",
      "Epoch 12/20\n",
      "24/24 - 0s - loss: 0.3920 - accuracy: 0.9750 - 48ms/epoch - 2ms/step\n",
      "Epoch 13/20\n",
      "24/24 - 0s - loss: 0.3608 - accuracy: 0.9667 - 45ms/epoch - 2ms/step\n",
      "Epoch 14/20\n",
      "24/24 - 0s - loss: 0.3429 - accuracy: 0.9583 - 67ms/epoch - 3ms/step\n",
      "Epoch 15/20\n",
      "24/24 - 0s - loss: 0.3229 - accuracy: 0.9583 - 57ms/epoch - 2ms/step\n",
      "Epoch 16/20\n",
      "24/24 - 0s - loss: 0.3072 - accuracy: 0.9417 - 48ms/epoch - 2ms/step\n",
      "Epoch 17/20\n",
      "24/24 - 0s - loss: 0.2912 - accuracy: 0.9583 - 50ms/epoch - 2ms/step\n",
      "Epoch 18/20\n",
      "24/24 - 0s - loss: 0.2669 - accuracy: 0.9833 - 47ms/epoch - 2ms/step\n",
      "Epoch 19/20\n",
      "24/24 - 0s - loss: 0.2601 - accuracy: 0.9500 - 43ms/epoch - 2ms/step\n",
      "Epoch 20/20\n",
      "24/24 - 0s - loss: 0.2390 - accuracy: 0.9583 - 48ms/epoch - 2ms/step\n"
     ]
    },
    {
     "data": {
      "text/plain": [
       "<keras.callbacks.History at 0x7f8aa4a9b370>"
      ]
     },
     "execution_count": 9,
     "metadata": {},
     "output_type": "execute_result"
    }
   ],
   "source": [
    "model.fit(X_train, y_train ,verbose=verbose, shuffle=shuffle,epochs=epochs,batch_size=batch_size)"
   ]
  },
  {
   "cell_type": "code",
   "execution_count": null,
   "id": "7b55861b",
   "metadata": {},
   "outputs": [],
   "source": [
    "results = model.evaluate(X_test, y_test)\n",
    "\n",
    "print('Final test set loss: {:4f}'.format(results[0]))\n",
    "print('Final test set accuracy: {:4f}'.format(results[1]))"
   ]
  },
  {
   "cell_type": "markdown",
   "id": "b5fe0974",
   "metadata": {},
   "source": [
    "## cross validation"
   ]
  },
  {
   "cell_type": "code",
   "execution_count": null,
   "id": "b8309f17",
   "metadata": {},
   "outputs": [],
   "source": [
    "def build_classifier():\n",
    "    classifier = Sequential()\n",
    "    classifier.add(Dense(10, input_shape=(4,), activation='relu')),\n",
    "    classifier.add(Dense(32, activation='relu')),\n",
    "    classifier.add(Dense(3, activation='softmax'))\n",
    "\n",
    "    optimizer= Adam(learning_rate=learning_rate)\n",
    "    classifier.compile(optimizer='optimizer',loss='sparse_categorical_crossentropy', metrics=['accuracy'])\n",
    "    return classifier"
   ]
  },
  {
   "cell_type": "code",
   "execution_count": null,
   "id": "4932f0db",
   "metadata": {},
   "outputs": [],
   "source": [
    "from keras.wrappers.scikit_learn import KerasClassifier\n",
    "from sklearn.model_selection import cross_val_score\n",
    "import numpy as np"
   ]
  },
  {
   "cell_type": "code",
   "execution_count": null,
   "id": "4f12779c",
   "metadata": {},
   "outputs": [],
   "source": [
    "classifier = KerasClassifier(build_fn = build_classifier, shuffle=shuffle,epochs=epochs,batch_size=batch_size)\n",
    "accuracies = cross_val_score(estimator = classifier, X=X_train,y=y_train, cv=cv,verbose=verbose)\n",
    "print(np.mean(accuracies))"
   ]
  },
  {
   "cell_type": "code",
   "execution_count": null,
   "id": "2a8f370d",
   "metadata": {},
   "outputs": [],
   "source": [
    "print(np.mean(accuracies))"
   ]
  },
  {
   "cell_type": "code",
   "execution_count": null,
   "id": "b563e158",
   "metadata": {},
   "outputs": [],
   "source": []
  },
  {
   "cell_type": "code",
   "execution_count": null,
   "id": "c8c7478e",
   "metadata": {},
   "outputs": [],
   "source": []
  },
  {
   "cell_type": "code",
   "execution_count": null,
   "id": "a48dd861",
   "metadata": {},
   "outputs": [],
   "source": []
  },
  {
   "cell_type": "code",
   "execution_count": null,
   "id": "11243ee8",
   "metadata": {},
   "outputs": [],
   "source": []
  },
  {
   "cell_type": "code",
   "execution_count": null,
   "id": "42a66683",
   "metadata": {},
   "outputs": [],
   "source": []
  },
  {
   "cell_type": "code",
   "execution_count": null,
   "id": "b8a23249",
   "metadata": {},
   "outputs": [],
   "source": [
    "\n"
   ]
  }
 ],
 "metadata": {
  "kernelspec": {
   "display_name": "Python 3 (ipykernel)",
   "language": "python",
   "name": "python3"
  },
  "language_info": {
   "codemirror_mode": {
    "name": "ipython",
    "version": 3
   },
   "file_extension": ".py",
   "mimetype": "text/x-python",
   "name": "python",
   "nbconvert_exporter": "python",
   "pygments_lexer": "ipython3",
   "version": "3.8.1"
  }
 },
 "nbformat": 4,
 "nbformat_minor": 5
}
